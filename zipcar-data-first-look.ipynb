{
 "metadata": {
  "name": "",
  "signature": "sha256:773a1ab4c74263ffeb49fc50739490528cd5b023a203e8956a5df23018673906"
 },
 "nbformat": 3,
 "nbformat_minor": 0,
 "worksheets": [
  {
   "cells": [
    {
     "cell_type": "heading",
     "level": 1,
     "metadata": {},
     "source": [
      "A First Look at the Zip Car Data Set"
     ]
    },
    {
     "cell_type": "markdown",
     "metadata": {},
     "source": [
      "**Summary**: Zip Car performance, measured by \"Miles driven per Zip Car\" and \"Miles driven per member\" have lots of variance across different ZIP codes. That means we have a good problem to solve: **What characteristics of a community predict the differences in ZipCar's performance there?**\n",
      "\n",
      "At the datathon, we got ZIP code-level data every quarter from ZipCar that included:\n",
      "\n",
      "- Members per ZIP Code\n",
      "- Vehicles per ZIP Code\n",
      "- Total Miles driven by vehicles based in a ZIP Code\n",
      "\n",
      "If we want to develop a model that predicts how well Zip Cars will perform in different parts of the state, we certainly hope that our data displays variance in Zip Car performance. In other words, if every Zip Car in the state was used exactly the same amount, and every Zip Car member drove the same number of miles, we could only predict that that some performance would be seen everywhere else in MA, too. That would be a super boring web app! So first I wanted to check out whether Zip Car performance was variable based on location."
     ]
    },
    {
     "cell_type": "code",
     "collapsed": false,
     "input": [
      "import numpy as np\n",
      "import os\n",
      "import pandas as pd\n",
      "import matplotlib.pyplot as plt\n",
      "from datetime import time\n",
      "pd.set_option('html', False)\n",
      "\n",
      "%matplotlib inline"
     ],
     "language": "python",
     "metadata": {},
     "outputs": [],
     "prompt_number": 1
    },
    {
     "cell_type": "markdown",
     "metadata": {},
     "source": [
      "So I've set up iPython to use Pandas, MatPlotLib, and to display charts right in the web browser. Now, I'm just going to import the data."
     ]
    },
    {
     "cell_type": "code",
     "collapsed": false,
     "input": [
      "zip_car_performance = pd.read_csv('zipcar_data.csv',\n",
      "                                  index_col=False,\n",
      "                                  dtype={'zip_code': np.str},\n",
      "                                  usecols=[0, 1, 2, 3, 4])\n",
      "zip_car_performance.head()"
     ],
     "language": "python",
     "metadata": {},
     "outputs": [
      {
       "metadata": {},
       "output_type": "pyout",
       "prompt_number": 2,
       "text": [
        "  zip_code  quarter  zcar_mem  zcar_mi  zcar_veh\n",
        "0    01001  2008_Q1         2        0         0\n",
        "1    01001  2008_Q2         2        0         0\n",
        "2    01001  2008_Q3         2        0         0\n",
        "3    01001  2008_Q4         1        0         0\n",
        "4    01001  2009_Q1         1        0         0"
       ]
      }
     ],
     "prompt_number": 2
    },
    {
     "cell_type": "markdown",
     "metadata": {},
     "source": [
      "Rows in the ZipCar dataset:"
     ]
    },
    {
     "cell_type": "code",
     "collapsed": false,
     "input": [
      "len(zip_car_performance.index)"
     ],
     "language": "python",
     "metadata": {},
     "outputs": [
      {
       "metadata": {},
       "output_type": "pyout",
       "prompt_number": 3,
       "text": [
        "16512"
       ]
      }
     ],
     "prompt_number": 3
    },
    {
     "cell_type": "markdown",
     "metadata": {},
     "source": [
      "Let's checkout what time periods we have data for."
     ]
    },
    {
     "cell_type": "code",
     "collapsed": false,
     "input": [
      "zip_car_performance.quarter.unique()"
     ],
     "language": "python",
     "metadata": {},
     "outputs": [
      {
       "metadata": {},
       "output_type": "pyout",
       "prompt_number": 4,
       "text": [
        "array(['2008_Q1', '2008_Q2', '2008_Q3', '2008_Q4', '2009_Q1', '2009_Q2',\n",
        "       '2009_Q3', '2009_Q4', '2010_Q1', '2010_Q2', '2010_Q3', '2010_Q4',\n",
        "       '2011_Q1', '2011_Q2', '2011_Q3', '2011_Q4', '2012_Q1', '2012_Q2',\n",
        "       '2012_Q3', '2012_Q4', '2013_Q1', '2013_Q2', '2013_Q3', '2013_Q4'], dtype=object)"
       ]
      }
     ],
     "prompt_number": 4
    },
    {
     "cell_type": "markdown",
     "metadata": {},
     "source": [
      "The latest data we have is for Q4 2013. Let's create a new dataset including only Q4 2013 data, and including ZIP codes where either number of members (`zcar_mem`), miles driven (`zcar_mi`), or number of vehicles (`zcar_veh`) is non-zero."
     ]
    },
    {
     "cell_type": "code",
     "collapsed": false,
     "input": [
      "zc_latest = zip_car_performance[zip_car_performance['quarter'] == '2013_Q4']\n",
      "zc_latest = zc_latest[(zc_latest.zcar_mem >0) | (zc_latest.zcar_mi > 0) | (zc_latest.zcar_veh > 0)]\n",
      "zc_latest.head()"
     ],
     "language": "python",
     "metadata": {},
     "outputs": [
      {
       "metadata": {},
       "output_type": "pyout",
       "prompt_number": 5,
       "text": [
        "    zip_code  quarter  zcar_mem   zcar_mi  zcar_veh\n",
        "23     01001  2013_Q4         2      0.00         0\n",
        "47     01002  2013_Q4       611  33625.86         2\n",
        "71     01003  2013_Q4       139  41330.15         3\n",
        "95     01004  2013_Q4         2      0.00         0\n",
        "119    01005  2013_Q4         1      0.00         0"
       ]
      }
     ],
     "prompt_number": 5
    },
    {
     "cell_type": "markdown",
     "metadata": {},
     "source": [
      "We've narrowed down the dataset to just a few rows:"
     ]
    },
    {
     "cell_type": "code",
     "collapsed": false,
     "input": [
      "len(zc_latest.index)"
     ],
     "language": "python",
     "metadata": {},
     "outputs": [
      {
       "metadata": {},
       "output_type": "pyout",
       "prompt_number": 6,
       "text": [
        "421"
       ]
      }
     ],
     "prompt_number": 6
    },
    {
     "cell_type": "heading",
     "level": 3,
     "metadata": {},
     "source": [
      "Miles Driven per Zip Car"
     ]
    },
    {
     "cell_type": "markdown",
     "metadata": {},
     "source": [
      "OK, now that we have narrowed down the zip car data to just the last quarter, we can start looking at it. First, let's see number of vehicles vs. how many miles were driven:"
     ]
    },
    {
     "cell_type": "code",
     "collapsed": false,
     "input": [
      "zc_latest.plot(x='zcar_veh', y='zcar_mi', kind='scatter')\n",
      "plt.show()"
     ],
     "language": "python",
     "metadata": {},
     "outputs": [
      {
       "metadata": {},
       "output_type": "display_data",
       "png": "[encoded data removed]",
       "text": [
        "<matplotlib.figure.Figure at 0x1051c4dd0>"
       ]
      }
     ],
     "prompt_number": 7
    },
    {
     "cell_type": "markdown",
     "metadata": {},
     "source": [
      "Good news! Total number of miles driven totally depends on number of available vehicles, but there is still a ton of variation. For example, in all ZIP codes where 3 vehicles was installed in Q4 2013, number of total miles driven varies from 17,500 up to 58,500 miles:"
     ]
    },
    {
     "cell_type": "code",
     "collapsed": false,
     "input": [
      "zc_latest[zc_latest.zcar_veh == 3].zcar_mi.describe()\n"
     ],
     "language": "python",
     "metadata": {},
     "outputs": [
      {
       "metadata": {},
       "output_type": "pyout",
       "prompt_number": 8,
       "text": [
        "count        7.000000\n",
        "mean     34956.604286\n",
        "std      14826.656652\n",
        "min      17591.200000\n",
        "25%      22468.460000\n",
        "50%      38927.880000\n",
        "75%      42385.440000\n",
        "max      58469.350000\n",
        "dtype: float64"
       ]
      }
     ],
     "prompt_number": 8
    },
    {
     "cell_type": "markdown",
     "metadata": {},
     "source": [
      "Let's create a new column, \"Average miles per vehicle\""
     ]
    },
    {
     "cell_type": "code",
     "collapsed": false,
     "input": [
      "zc_latest[\"zcar_mi_avg\"] = zc_latest.zcar_mi/zc_latest.zcar_veh\n",
      "zc_latest.loc[zc_latest.zcar_mi_avg == np.inf, 'zcar_mi_avg'] = np.nan\n",
      "zc_latest.zcar_mi_avg.describe()"
     ],
     "language": "python",
     "metadata": {},
     "outputs": [
      {
       "metadata": {},
       "output_type": "pyout",
       "prompt_number": 9,
       "text": [
        "count       72.000000\n",
        "mean     15215.102969\n",
        "std       9766.934194\n",
        "min       3730.840000\n",
        "25%       9161.777500\n",
        "50%      12952.797000\n",
        "75%      17870.826964\n",
        "max      72156.230000\n",
        "dtype: float64"
       ]
      }
     ],
     "prompt_number": 9
    },
    {
     "cell_type": "markdown",
     "metadata": {},
     "source": [
      "So looking at all ZIP codes that had cars installed in Q4 2013, the average mileage driven per car varies from just 3730 miles all the way up to 72,156 miles per vehicle. Even disregarding outliers, the average 50% of ZIP codes varies by 100%: from 9161 miles per car up to 17870 miles! _This gives us great motivation for developing our prediction model: what is it about certain communities that causes these variations in ZipCar utilization?_"
     ]
    },
    {
     "cell_type": "heading",
     "level": 3,
     "metadata": {},
     "source": [
      "Miles Driven per Member"
     ]
    },
    {
     "cell_type": "markdown",
     "metadata": {},
     "source": [
      "Now, let's talk members. First question: how many members live in a zip code that has vehicles available, versus no vehicles?"
     ]
    },
    {
     "cell_type": "code",
     "collapsed": false,
     "input": [
      "zc_latest[zc_latest.zcar_veh > 0].zcar_mem.sum()"
     ],
     "language": "python",
     "metadata": {},
     "outputs": [
      {
       "metadata": {},
       "output_type": "pyout",
       "prompt_number": 10,
       "text": [
        "74130"
       ]
      }
     ],
     "prompt_number": 10
    },
    {
     "cell_type": "code",
     "collapsed": false,
     "input": [
      "zc_latest[zc_latest.zcar_veh == 0].zcar_mem.sum()"
     ],
     "language": "python",
     "metadata": {},
     "outputs": [
      {
       "metadata": {},
       "output_type": "pyout",
       "prompt_number": 11,
       "text": [
        "5040"
       ]
      }
     ],
     "prompt_number": 11
    },
    {
     "cell_type": "markdown",
     "metadata": {},
     "source": [
      "So. In Q4 2013, ZipCar had 79170 members, 94% of whom lived in a ZIP that had a ZipCar. The vast majority of ZipCar members live in a ZipCode with a Zip Car. Let's assume for a moment that a member predominantly uses the cars in her own ZIP code. In that case, how does the number of miles per member vary?"
     ]
    },
    {
     "cell_type": "code",
     "collapsed": false,
     "input": [
      "zc_latest.plot(x='zcar_mem', y='zcar_mi', kind='scatter')\n",
      "plt.show()"
     ],
     "language": "python",
     "metadata": {},
     "outputs": [
      {
       "metadata": {},
       "output_type": "display_data",
       "png": "[encoded data removed]",
       "text": [
        "<matplotlib.figure.Figure at 0x1058930d0>"
       ]
      }
     ],
     "prompt_number": 12
    },
    {
     "cell_type": "code",
     "collapsed": false,
     "input": [
      "zc_latest[\"zcar_mi_per_mem\"] = zc_latest.zcar_mi/zc_latest.zcar_mem\n",
      "zc_latest.loc[zc_latest.zcar_mi_per_mem == np.inf, \"zcar_mi_per_mem\"] = np.nan\n",
      "zc_latest.loc[zc_latest.zcar_veh == 0, \"zcar_mi_per_mem\"] = np.nan\n",
      "zc_latest.zcar_mi_per_mem.describe()"
     ],
     "language": "python",
     "metadata": {},
     "outputs": [
      {
       "metadata": {},
       "output_type": "pyout",
       "prompt_number": 13,
       "text": [
        "count      71.000000\n",
        "mean      179.816633\n",
        "std       329.981338\n",
        "min         8.676636\n",
        "25%        61.648792\n",
        "50%        79.696305\n",
        "75%       139.289766\n",
        "max      2162.791667\n",
        "dtype: float64"
       ]
      }
     ],
     "prompt_number": 13
    },
    {
     "cell_type": "markdown",
     "metadata": {},
     "source": [
      "So now we have a new column, `zc_latest.zcar_mi_per_mem`, that describes the average miles driven by member. Here were see that on average, a ZipCar member drives 180 miles per quarter (this average is skewed high because we didn't include the 6% of members that don't have a car in their ZIP) but, just like with miles per vehicle, we've got high variance: the middle 50% of ZIP codes vary more than 100%, from 60 miles per member to 140 miles per member. **What community charateristics make some members use ZipCar twice as much as others?**"
     ]
    },
    {
     "cell_type": "heading",
     "level": 1,
     "metadata": {},
     "source": [
      "ZipCar Locations"
     ]
    },
    {
     "cell_type": "markdown",
     "metadata": {},
     "source": [
      "The fantastic ZipCar dataset we received at the Datathon gives us some really great utilization data for ZipCars in Massachusetts, but it only ZIP Code-level spatial resolution. On the other hand, the MA Vehicle Census contains information about driving behavior resolved on a 250m grid! If we want to take full advantage of the Vehicle Census to model ZipCar utilization, we really need to know where, exactly, those ZIP Cars are located. \n",
      "\n",
      "After spending some quality time with my favorite browser console, I was able to scrape the current list of all ZipCar locations in Massachusetts, as of Q1 2014. Since ZipCar hasn't published how to access this data, I'm not going to show you how I did it, or provide the dataset I recovered. But here is a peak at what the raw data looks like:"
     ]
    },
    {
     "cell_type": "code",
     "collapsed": false,
     "input": [
      "zip_car_locations = pd.read_csv('ZipCarLocations.csv',\n",
      "                                  index_col='locationId',\n",
      "                                  dtype={'zip_code': np.str},\n",
      "                                  usecols=[0, 1, 2, 3, 4, 7])\n",
      "zip_car_locations.head()"
     ],
     "language": "python",
     "metadata": {},
     "outputs": [
      {
       "metadata": {},
       "output_type": "pyout",
       "prompt_number": 14,
       "text": [
        "                               description  hasVans   latitude  longitude  \\\n",
        "locationId                                                                  \n",
        "49271126                       Riverside T        0  42.336709 -71.253054   \n",
        "1262234042             Watch Factory Lofts        0  42.368277 -71.241841   \n",
        "49271012                        Woodland T        0  42.332116 -71.241346   \n",
        "391795896       Archstone Cronin's Landing        0  42.371949 -71.237892   \n",
        "1053595252  64 Pine St/Donovan's Alignment        0  42.371203 -71.233723   \n",
        "\n",
        "            vehicleCount  \n",
        "locationId                \n",
        "49271126               2  \n",
        "1262234042             2  \n",
        "49271012               2  \n",
        "391795896              2  \n",
        "1053595252             1  "
       ]
      }
     ],
     "prompt_number": 14
    },
    {
     "cell_type": "markdown",
     "metadata": {},
     "source": [
      "The first problem (or challenge!) to notice is that these ZipCar locations do not come with their enclosing ZIP Code. The second is that there are way more vehicles in `zip_car_locations` than there are in `zip_car_performance`:"
     ]
    },
    {
     "cell_type": "code",
     "collapsed": false,
     "input": [
      "zip_car_locations.vehicleCount.sum()"
     ],
     "language": "python",
     "metadata": {},
     "outputs": [
      {
       "metadata": {},
       "output_type": "pyout",
       "prompt_number": 15,
       "text": [
        "862"
       ]
      }
     ],
     "prompt_number": 15
    },
    {
     "cell_type": "code",
     "collapsed": false,
     "input": [
      "zc_latest.zcar_veh.sum()"
     ],
     "language": "python",
     "metadata": {},
     "outputs": [
      {
       "metadata": {},
       "output_type": "pyout",
       "prompt_number": 16,
       "text": [
        "411"
       ]
      }
     ],
     "prompt_number": 16
    },
    {
     "cell_type": "heading",
     "level": 2,
     "metadata": {},
     "source": [
      "Assigning ZIP Codes"
     ]
    },
    {
     "cell_type": "markdown",
     "metadata": {},
     "source": [
      "Our first task to merge the set of ZipCar locations with the `zip_car_performance` dataset is to assign a ZIP code to every ZipCar location. Since `zip_car_locations` contains lat/lng coordinates to define a location, we first need to get a dataset that defines most ZIP codes in terms of their coordinates. The U.S. Census Bureau provides a ton of geospatial datasets, including the one we need:\n",
      "\n",
      "[2013 ZIP Code Boundaries](http://www2.census.gov/geo/tiger/TIGER2013/ZCTA5/tl_2013_us_zcta510.zip) (**Warning:** 500+ MB download) \n",
      "\n",
      "P.S. [Not all ZIP Codes are areas!](http://gis.stackexchange.com/a/2693) Some ZIPs define a single Post Office location, or a mail route.\n",
      "\n",
      "To start, let's add a new column to the `zip_car_locations` dataset to store matched ZIP Codes:"
     ]
    },
    {
     "cell_type": "code",
     "collapsed": false,
     "input": [
      "zip_car_locations['zip_code'] = pd.Series(np.str, index=zip_car_locations.index)\n",
      "zip_car_locations.head()"
     ],
     "language": "python",
     "metadata": {},
     "outputs": [
      {
       "metadata": {},
       "output_type": "pyout",
       "prompt_number": 17,
       "text": [
        "                               description  hasVans   latitude  longitude  \\\n",
        "locationId                                                                  \n",
        "49271126                       Riverside T        0  42.336709 -71.253054   \n",
        "1262234042             Watch Factory Lofts        0  42.368277 -71.241841   \n",
        "49271012                        Woodland T        0  42.332116 -71.241346   \n",
        "391795896       Archstone Cronin's Landing        0  42.371949 -71.237892   \n",
        "1053595252  64 Pine St/Donovan's Alignment        0  42.371203 -71.233723   \n",
        "\n",
        "            vehicleCount      zip_code  \n",
        "locationId                              \n",
        "49271126               2  <type 'str'>  \n",
        "1262234042             2  <type 'str'>  \n",
        "49271012               2  <type 'str'>  \n",
        "391795896              2  <type 'str'>  \n",
        "1053595252             1  <type 'str'>  "
       ]
      }
     ],
     "prompt_number": 17
    },
    {
     "cell_type": "markdown",
     "metadata": {},
     "source": [
      "Next up, we need to load some libraries that will allow us to manipulate geographic data. [Shapely](http://toblerity.org/shapely) and [Fiona](http://toblerity.org/fiona) are fantastic geospatial tools. Fiona imports lots of geospatial file formats into highly regular, Pythonic data structures, and Shapely is used to do geographic calculations (formally, \"set-theoretic analysis and manipulation of planar features\" ) on those data structures. "
     ]
    },
    {
     "cell_type": "code",
     "collapsed": false,
     "input": [
      "import shapely, shapely.geometry, fiona"
     ],
     "language": "python",
     "metadata": {},
     "outputs": [],
     "prompt_number": 18
    },
    {
     "cell_type": "markdown",
     "metadata": {},
     "source": [
      "Load the lat/lng of every ZipCar location as a Shapely Point object."
     ]
    },
    {
     "cell_type": "code",
     "collapsed": false,
     "input": [
      "zip_car_points = {}\n",
      "\n",
      "for location in zip_car_locations.index:\n",
      "    zip_car_record = zip_car_locations.loc[location]\n",
      "    zip_car_points[location] = shapely.geometry.Point(zip_car_record.longitude , \n",
      "                                                      zip_car_record.latitude)"
     ],
     "language": "python",
     "metadata": {},
     "outputs": [],
     "prompt_number": 19
    },
    {
     "cell_type": "markdown",
     "metadata": {},
     "source": [
      "Use Fiona to load the ZIP Code Shapefile loaded above into Python."
     ]
    },
    {
     "cell_type": "code",
     "collapsed": false,
     "input": [
      "zip_code_shapefile = fiona.open('tl_2013_us_zcta510')"
     ],
     "language": "python",
     "metadata": {},
     "outputs": [],
     "prompt_number": 38
    },
    {
     "cell_type": "markdown",
     "metadata": {},
     "source": [
      "Fiona represents geographic data as a collection of shapes such as points, lines, and polygons. Since this file represents ZIP Code *areas*, we expect most of the shapes in it to be polygons. Our plan is to loop over each shape in the file, and determine whether any of the `zip_car_points` we created above fall into a given polygon. Let's check look at the structure of one of these shapes represented by Fiona: "
     ]
    },
    {
     "cell_type": "code",
     "collapsed": false,
     "input": [
      "zip_code_shapefile[0]"
     ],
     "language": "python",
     "metadata": {},
     "outputs": [
      {
       "metadata": {},
       "output_type": "pyout",
       "prompt_number": 39,
       "text": [
        "{'geometry': {'coordinates': [[(-83.625078, 41.341719),\n",
        "    (-83.62468, 41.341712),\n",
        "    (-83.62471, 41.34159),\n",
        "    (-83.624741, 41.341463),\n",
        "    (-83.625019, 41.340333),\n",
        "    (-83.62521799999999, 41.339399),\n",
        "    (-83.625339, 41.338729),\n",
        "    (-83.625436, 41.338102),\n",
        "    (-83.62555499999999, 41.33707),\n",
        "    (-83.62557799999999, 41.336800000000004),\n",
        "    (-83.62558299999999, 41.336757999999996),\n",
        "    (-83.62558899999999, 41.336712),\n",
        "    (-83.62561699999999, 41.336351),\n",
        "    (-83.625655, 41.335676),\n",
        "    (-83.62572899999999, 41.333194),\n",
        "    (-83.625855, 41.328517),\n",
        "    (-83.625941, 41.325644),\n",
        "    (-83.622486, 41.325644),\n",
        "    (-83.62198599999999, 41.325647),\n",
        "    (-83.62171, 41.325648),\n",
        "    (-83.620707, 41.325646),\n",
        "    (-83.619462, 41.325658999999995),\n",
        "    (-83.61693199999999, 41.325686),\n",
        "    (-83.614001, 41.325705),\n",
        "    (-83.61109499999999, 41.325722999999996),\n",
        "    (-83.61108999999999, 41.32613),\n",
        "    (-83.61101699999999, 41.328654),\n",
        "    (-83.61100499999999, 41.329253),\n",
        "    (-83.610978, 41.330638),\n",
        "    (-83.61094, 41.332982),\n",
        "    (-83.610934, 41.334469999999996),\n",
        "    (-83.610913, 41.335732),\n",
        "    (-83.61088099999999, 41.3397),\n",
        "    (-83.61089799999999, 41.340556),\n",
        "    (-83.61088, 41.341277999999996),\n",
        "    (-83.610877, 41.341317),\n",
        "    (-83.610858, 41.341587),\n",
        "    (-83.610413, 41.341589),\n",
        "    (-83.60663799999999, 41.341569),\n",
        "    (-83.606287, 41.341567),\n",
        "    (-83.60437999999999, 41.34156),\n",
        "    (-83.600556, 41.341539),\n",
        "    (-83.597145, 41.34153),\n",
        "    (-83.59522299999999, 41.341528),\n",
        "    (-83.593497, 41.341525),\n",
        "    (-83.593148, 41.341525),\n",
        "    (-83.59183399999999, 41.341529),\n",
        "    (-83.591685, 41.341525999999995),\n",
        "    (-83.591656, 41.341477),\n",
        "    (-83.591606, 41.341325999999995),\n",
        "    (-83.591594, 41.341251),\n",
        "    (-83.59157499999999, 41.341139),\n",
        "    (-83.59155899999999, 41.340959),\n",
        "    (-83.59154699999999, 41.340598),\n",
        "    (-83.591562, 41.338573),\n",
        "    (-83.59156399999999, 41.337365),\n",
        "    (-83.591548, 41.333903),\n",
        "    (-83.591555, 41.333318999999996),\n",
        "    (-83.591578, 41.332825),\n",
        "    (-83.591644, 41.329496),\n",
        "    (-83.591717, 41.327605999999996),\n",
        "    (-83.59177299999999, 41.325809),\n",
        "    (-83.590415, 41.325813),\n",
        "    (-83.586891, 41.325834),\n",
        "    (-83.58575599999999, 41.325828),\n",
        "    (-83.583726, 41.325838999999995),\n",
        "    (-83.582909, 41.325845),\n",
        "    (-83.581632, 41.327293),\n",
        "    (-83.580995, 41.328208),\n",
        "    (-83.58050999999999, 41.32862),\n",
        "    (-83.579782, 41.328986),\n",
        "    (-83.578599, 41.329305999999995),\n",
        "    (-83.57766, 41.329786999999996),\n",
        "    (-83.575385, 41.331274),\n",
        "    (-83.574263, 41.332097999999995),\n",
        "    (-83.573565, 41.332372),\n",
        "    (-83.572347, 41.33274),\n",
        "    (-83.572347, 41.332755999999996),\n",
        "    (-83.572311, 41.333779),\n",
        "    (-83.57229699999999, 41.335257999999996),\n",
        "    (-83.572267, 41.338417),\n",
        "    (-83.572278, 41.340081),\n",
        "    (-83.572268, 41.341204999999995),\n",
        "    (-83.572265, 41.341501),\n",
        "    (-83.560829, 41.341418999999995),\n",
        "    (-83.55873799999999, 41.341412999999996),\n",
        "    (-83.55829299999999, 41.341409),\n",
        "    (-83.55342499999999, 41.341369),\n",
        "    (-83.55302499999999, 41.341367),\n",
        "    (-83.550316, 41.341339),\n",
        "    (-83.549002, 41.341301),\n",
        "    (-83.546553, 41.34127),\n",
        "    (-83.546196, 41.341271),\n",
        "    (-83.54614099999999, 41.341287),\n",
        "    (-83.546089, 41.341311),\n",
        "    (-83.546043, 41.341339),\n",
        "    (-83.545963, 41.341404999999995),\n",
        "    (-83.545862, 41.341516999999996),\n",
        "    (-83.544088, 41.34377),\n",
        "    (-83.543741, 41.344192),\n",
        "    (-83.543629, 41.344350999999996),\n",
        "    (-83.543584, 41.344435),\n",
        "    (-83.543567, 41.344477999999995),\n",
        "    (-83.54354, 41.344606),\n",
        "    (-83.54352999999999, 41.344786),\n",
        "    (-83.543517, 41.345461),\n",
        "    (-83.543441, 41.347984),\n",
        "    (-83.543419, 41.348580999999996),\n",
        "    (-83.54336099999999, 41.348582),\n",
        "    (-83.543223, 41.34858),\n",
        "    (-83.54301799999999, 41.348569999999995),\n",
        "    (-83.539478, 41.348569999999995),\n",
        "    (-83.539298, 41.34858),\n",
        "    (-83.539119, 41.348600999999995),\n",
        "    (-83.538943, 41.348636),\n",
        "    (-83.53877299999999, 41.348684999999996),\n",
        "    (-83.538417, 41.348825999999995),\n",
        "    (-83.53830599999999, 41.348856999999995),\n",
        "    (-83.538133, 41.348887),\n",
        "    (-83.537955, 41.348901999999995),\n",
        "    (-83.53753499999999, 41.348912),\n",
        "    (-83.53644899999999, 41.348912999999996),\n",
        "    (-83.53397799999999, 41.348926),\n",
        "    (-83.533773, 41.348932999999995),\n",
        "    (-83.53376999999999, 41.348763),\n",
        "    (-83.53378599999999, 41.347681),\n",
        "    (-83.533789, 41.346736),\n",
        "    (-83.533813, 41.3461),\n",
        "    (-83.534212, 41.345998),\n",
        "    (-83.535578, 41.345953),\n",
        "    (-83.536245, 41.34609),\n",
        "    (-83.537004, 41.346365),\n",
        "    (-83.538946, 41.346776999999996),\n",
        "    (-83.539552, 41.346846),\n",
        "    (-83.54021999999999, 41.346686),\n",
        "    (-83.540827, 41.346410999999996),\n",
        "    (-83.54161599999999, 41.345701999999996),\n",
        "    (-83.54355799999999, 41.343689999999995),\n",
        "    (-83.545386, 41.341170999999996),\n",
        "    (-83.545653, 41.340764),\n",
        "    (-83.545744, 41.340466),\n",
        "    (-83.54650099999999, 41.33998),\n",
        "    (-83.547386, 41.339726999999996),\n",
        "    (-83.54971599999999, 41.339362),\n",
        "    (-83.550859, 41.339058),\n",
        "    (-83.55227699999999, 41.338574),\n",
        "    (-83.55257, 41.338387999999995),\n",
        "    (-83.552566, 41.338353999999995),\n",
        "    (-83.55257999999999, 41.338294),\n",
        "    (-83.552604, 41.338254),\n",
        "    (-83.55287299999999, 41.337958),\n",
        "    (-83.552962, 41.33784),\n",
        "    (-83.553009, 41.337758),\n",
        "    (-83.553043, 41.337672999999995),\n",
        "    (-83.553072, 41.33754),\n",
        "    (-83.553083, 41.337406),\n",
        "    (-83.553084, 41.336954),\n",
        "    (-83.553134, 41.334613),\n",
        "    (-83.553147, 41.333517),\n",
        "    (-83.554118, 41.334407),\n",
        "    (-83.554603, 41.335550999999995),\n",
        "    (-83.554876, 41.335985),\n",
        "    (-83.555362, 41.335938999999996),\n",
        "    (-83.555847, 41.335802),\n",
        "    (-83.55854699999999, 41.335642),\n",
        "    (-83.561217, 41.335688),\n",
        "    (-83.56264399999999, 41.335184999999996),\n",
        "    (-83.562674, 41.334933),\n",
        "    (-83.562432, 41.334544),\n",
        "    (-83.56231, 41.333973),\n",
        "    (-83.562158, 41.333766999999995),\n",
        "    (-83.56218799999999, 41.33331),\n",
        "    (-83.562643, 41.332623999999996),\n",
        "    (-83.562552, 41.332029),\n",
        "    (-83.562338, 41.331869),\n",
        "    (-83.562428, 41.331526),\n",
        "    (-83.562793, 41.331343),\n",
        "    (-83.56294199999999, 41.325992),\n",
        "    (-83.56253, 41.325995999999996),\n",
        "    (-83.561694, 41.326008),\n",
        "    (-83.560141, 41.326021),\n",
        "    (-83.553271, 41.326025),\n",
        "    (-83.55172, 41.326021999999995),\n",
        "    (-83.550585, 41.326007),\n",
        "    (-83.549809, 41.326014),\n",
        "    (-83.544028, 41.326138),\n",
        "    (-83.543689, 41.326145),\n",
        "    (-83.53715199999999, 41.326287),\n",
        "    (-83.53536, 41.326307),\n",
        "    (-83.535062, 41.326298),\n",
        "    (-83.534825, 41.326276),\n",
        "    (-83.53459199999999, 41.326238),\n",
        "    (-83.53424799999999, 41.326162),\n",
        "    (-83.534087, 41.326119999999996),\n",
        "    (-83.534157, 41.320484),\n",
        "    (-83.534168, 41.319007),\n",
        "    (-83.534171, 41.318593),\n",
        "    (-83.53419, 41.317152),\n",
        "    (-83.53419799999999, 41.315576),\n",
        "    (-83.534261, 41.31155),\n",
        "    (-83.534267, 41.311063999999995),\n",
        "    (-83.534311, 41.307561),\n",
        "    (-83.534322, 41.30612),\n",
        "    (-83.53433799999999, 41.305535),\n",
        "    (-83.534404, 41.30441),\n",
        "    (-83.534416, 41.304013),\n",
        "    (-83.534429, 41.303554999999996),\n",
        "    (-83.53446, 41.300943),\n",
        "    (-83.534481, 41.298286),\n",
        "    (-83.534508, 41.297062),\n",
        "    (-83.53489499999999, 41.297066),\n",
        "    (-83.53558199999999, 41.297073),\n",
        "    (-83.53814899999999, 41.297077),\n",
        "    (-83.539463, 41.297073),\n",
        "    (-83.54077699999999, 41.297061),\n",
        "    (-83.54209, 41.297044),\n",
        "    (-83.543931, 41.297014),\n",
        "    (-83.54433399999999, 41.297008),\n",
        "    (-83.545553, 41.296997),\n",
        "    (-83.54758799999999, 41.296988999999996),\n",
        "    (-83.550986, 41.296974999999996),\n",
        "    (-83.55218099999999, 41.296966999999995),\n",
        "    (-83.554036, 41.296943999999996),\n",
        "    (-83.554555, 41.296938999999995),\n",
        "    (-83.559286, 41.296893999999995),\n",
        "    (-83.563345, 41.296841),\n",
        "    (-83.56368599999999, 41.296838),\n",
        "    (-83.565793, 41.296821),\n",
        "    (-83.572592, 41.296745),\n",
        "    (-83.57322599999999, 41.296738),\n",
        "    (-83.57328299999999, 41.295186),\n",
        "    (-83.57333799999999, 41.293341),\n",
        "    (-83.573381, 41.292801),\n",
        "    (-83.573438, 41.291182),\n",
        "    (-83.573471, 41.289786),\n",
        "    (-83.57346299999999, 41.289476),\n",
        "    (-83.57610799999999, 41.289442),\n",
        "    (-83.577422, 41.289432),\n",
        "    (-83.579572, 41.289429999999996),\n",
        "    (-83.581364, 41.289435999999995),\n",
        "    (-83.582933, 41.289435),\n",
        "    (-83.585664, 41.289434),\n",
        "    (-83.59008399999999, 41.289426999999996),\n",
        "    (-83.59255, 41.289432999999995),\n",
        "    (-83.59258, 41.28853),\n",
        "    (-83.592602, 41.28763),\n",
        "    (-83.592714, 41.283758999999996),\n",
        "    (-83.59273499999999, 41.283398),\n",
        "    (-83.592832, 41.282455999999996),\n",
        "    (-83.592838, 41.282258999999996),\n",
        "    (-83.593257, 41.28226),\n",
        "    (-83.59369199999999, 41.282261),\n",
        "    (-83.596318, 41.282294),\n",
        "    (-83.599363, 41.282337999999996),\n",
        "    (-83.602361, 41.282388),\n",
        "    (-83.602808, 41.282396),\n",
        "    (-83.61035199999999, 41.282523),\n",
        "    (-83.610674, 41.282528),\n",
        "    (-83.610884, 41.282531999999996),\n",
        "    (-83.612077, 41.282548),\n",
        "    (-83.615302, 41.282557),\n",
        "    (-83.616588, 41.282553),\n",
        "    (-83.618228, 41.282548),\n",
        "    (-83.619959, 41.282547),\n",
        "    (-83.626528, 41.282523999999995),\n",
        "    (-83.62808, 41.282512),\n",
        "    (-83.631086, 41.282506),\n",
        "    (-83.63202, 41.282516),\n",
        "    (-83.634748, 41.282576),\n",
        "    (-83.634819, 41.282421),\n",
        "    (-83.634993, 41.280522999999995),\n",
        "    (-83.635145, 41.279883),\n",
        "    (-83.636147, 41.277871),\n",
        "    (-83.636208, 41.275560999999996),\n",
        "    (-83.63648099999999, 41.274967),\n",
        "    (-83.636754, 41.274784),\n",
        "    (-83.636754, 41.274623999999996),\n",
        "    (-83.63824, 41.27307),\n",
        "    (-83.638938, 41.272224),\n",
        "    (-83.638999, 41.271401),\n",
        "    (-83.638937, 41.270005999999995),\n",
        "    (-83.639056, 41.269456999999996),\n",
        "    (-83.638961, 41.268471),\n",
        "    (-83.640428, 41.268513999999996),\n",
        "    (-83.641144, 41.268526),\n",
        "    (-83.645375, 41.268504),\n",
        "    (-83.645376, 41.268654),\n",
        "    (-83.645375, 41.27041),\n",
        "    (-83.645382, 41.270685),\n",
        "    (-83.645382, 41.270782),\n",
        "    (-83.645382, 41.271294999999995),\n",
        "    (-83.645382, 41.271567999999995),\n",
        "    (-83.645393, 41.273301),\n",
        "    (-83.645557, 41.273312999999995),\n",
        "    (-83.64658999999999, 41.273317),\n",
        "    (-83.646682, 41.273320999999996),\n",
        "    (-83.647492, 41.273309999999995),\n",
        "    (-83.647668, 41.273317),\n",
        "    (-83.64778199999999, 41.273334),\n",
        "    (-83.64794599999999, 41.273379999999996),\n",
        "    (-83.64805, 41.273423),\n",
        "    (-83.64809699999999, 41.273451),\n",
        "    (-83.648303, 41.273551999999995),\n",
        "    (-83.648539, 41.273694),\n",
        "    (-83.64869, 41.27377),\n",
        "    (-83.649715, 41.274240999999996),\n",
        "    (-83.64982599999999, 41.274280999999995),\n",
        "    (-83.650103, 41.274349),\n",
        "    (-83.650341, 41.274428),\n",
        "    (-83.650347, 41.275236),\n",
        "    (-83.650363, 41.276271),\n",
        "    (-83.650418, 41.282964),\n",
        "    (-83.65043399999999, 41.2843),\n",
        "    (-83.650466, 41.287079999999996),\n",
        "    (-83.65047799999999, 41.288346999999995),\n",
        "    (-83.65052399999999, 41.294644999999996),\n",
        "    (-83.650551, 41.297536),\n",
        "    (-83.650548, 41.298415999999996),\n",
        "    (-83.65054599999999, 41.299149),\n",
        "    (-83.650549, 41.3005),\n",
        "    (-83.650545, 41.302375999999995),\n",
        "    (-83.650544, 41.302842),\n",
        "    (-83.650547, 41.304721),\n",
        "    (-83.65131799999999, 41.304424),\n",
        "    (-83.652016, 41.303807),\n",
        "    (-83.653593, 41.303259),\n",
        "    (-83.654533, 41.302596),\n",
        "    (-83.654746, 41.302321),\n",
        "    (-83.655292, 41.301314999999995),\n",
        "    (-83.657489, 41.301279),\n",
        "    (-83.665465, 41.301148999999995),\n",
        "    (-83.664485, 41.302344),\n",
        "    (-83.664369, 41.302487),\n",
        "    (-83.66339699999999, 41.303858999999996),\n",
        "    (-83.663292, 41.304048),\n",
        "    (-83.66269799999999, 41.305116),\n",
        "    (-83.660235, 41.31106),\n",
        "    (-83.660144, 41.311586),\n",
        "    (-83.660204, 41.311974),\n",
        "    (-83.660198, 41.312168),\n",
        "    (-83.661558, 41.312169),\n",
        "    (-83.66284, 41.312176),\n",
        "    (-83.663833, 41.312182),\n",
        "    (-83.664073, 41.312174),\n",
        "    (-83.66425, 41.312155),\n",
        "    (-83.66448299999999, 41.312115),\n",
        "    (-83.664999, 41.311997),\n",
        "    (-83.66529, 41.311945),\n",
        "    (-83.665527, 41.311915),\n",
        "    (-83.66573, 41.311907),\n",
        "    (-83.665852, 41.311910999999995),\n",
        "    (-83.66602999999999, 41.311935),\n",
        "    (-83.666145, 41.311963),\n",
        "    (-83.66659299999999, 41.312103),\n",
        "    (-83.66676799999999, 41.312137),\n",
        "    (-83.666949, 41.312149),\n",
        "    (-83.667157, 41.312141),\n",
        "    (-83.667338, 41.312121999999995),\n",
        "    (-83.667576, 41.312084),\n",
        "    (-83.66781, 41.312031),\n",
        "    (-83.668093, 41.311946),\n",
        "    (-83.66856899999999, 41.311768),\n",
        "    (-83.66868699999999, 41.311948),\n",
        "    (-83.669229, 41.311704),\n",
        "    (-83.67102, 41.311018),\n",
        "    (-83.672294, 41.310857999999996),\n",
        "    (-83.674509, 41.310331999999995),\n",
        "    (-83.675389, 41.309988),\n",
        "    (-83.67666299999999, 41.309325),\n",
        "    (-83.677543, 41.309508),\n",
        "    (-83.67836199999999, 41.309416999999996),\n",
        "    (-83.679727, 41.309438),\n",
        "    (-83.682002, 41.309667),\n",
        "    (-83.68421699999999, 41.310215),\n",
        "    (-83.684793, 41.310466),\n",
        "    (-83.685582, 41.310604),\n",
        "    (-83.68679499999999, 41.310627),\n",
        "    (-83.68719, 41.310739999999996),\n",
        "    (-83.688222, 41.31122),\n",
        "    (-83.68879799999999, 41.31138),\n",
        "    (-83.68894999999999, 41.311563),\n",
        "    (-83.689404, 41.311567),\n",
        "    (-83.689405, 41.312042999999996),\n",
        "    (-83.689398, 41.312129),\n",
        "    (-83.689397, 41.312221),\n",
        "    (-83.68938, 41.312501999999995),\n",
        "    (-83.68993499999999, 41.312512999999996),\n",
        "    (-83.69008099999999, 41.312515999999995),\n",
        "    (-83.696451, 41.312548),\n",
        "    (-83.69776499999999, 41.312551),\n",
        "    (-83.699557, 41.312565),\n",
        "    (-83.702125, 41.312605999999995),\n",
        "    (-83.70833499999999, 41.312743999999995),\n",
        "    (-83.708556, 41.31274),\n",
        "    (-83.708551, 41.313235),\n",
        "    (-83.708569, 41.313995999999996),\n",
        "    (-83.708592, 41.314671),\n",
        "    (-83.70862, 41.316112),\n",
        "    (-83.708629, 41.317417999999996),\n",
        "    (-83.708649, 41.318903999999996),\n",
        "    (-83.708681, 41.32057),\n",
        "    (-83.708705, 41.322371),\n",
        "    (-83.708714, 41.325569),\n",
        "    (-83.708733, 41.327326),\n",
        "    (-83.708147, 41.327310999999995),\n",
        "    (-83.70420399999999, 41.327265),\n",
        "    (-83.70079899999999, 41.327231999999995),\n",
        "    (-83.698948, 41.327207),\n",
        "    (-83.69422899999999, 41.32716),\n",
        "    (-83.691732, 41.327109),\n",
        "    (-83.69100399999999, 41.327092),\n",
        "    (-83.690707, 41.327093999999995),\n",
        "    (-83.689453, 41.327072),\n",
        "    (-83.68937299999999, 41.327073),\n",
        "    (-83.68938899999999, 41.327137),\n",
        "    (-83.689405, 41.327600000000004),\n",
        "    (-83.689036, 41.327701999999995),\n",
        "    (-83.686776, 41.32842),\n",
        "    (-83.685118, 41.328939),\n",
        "    (-83.684499, 41.329104),\n",
        "    (-83.68440199999999, 41.329124),\n",
        "    (-83.68397999999999, 41.329209999999996),\n",
        "    (-83.68247, 41.329491),\n",
        "    (-83.679733, 41.33001),\n",
        "    (-83.679756, 41.330431999999995),\n",
        "    (-83.680604, 41.330433),\n",
        "    (-83.68109, 41.330501999999996),\n",
        "    (-83.681454, 41.330709),\n",
        "    (-83.682425, 41.331029),\n",
        "    (-83.683334, 41.331236),\n",
        "    (-83.68430599999999, 41.331351),\n",
        "    (-83.684187, 41.342703),\n",
        "    (-83.682844, 41.342686),\n",
        "    (-83.67587499999999, 41.342586999999995),\n",
        "    (-83.674464, 41.331119),\n",
        "    (-83.67444499999999, 41.331123999999996),\n",
        "    (-83.67215, 41.331634),\n",
        "    (-83.669851, 41.332163),\n",
        "    (-83.669811, 41.335772999999996),\n",
        "    (-83.669742, 41.340320999999996),\n",
        "    (-83.669722, 41.341943),\n",
        "    (-83.669731, 41.342454),\n",
        "    (-83.669741, 41.342495),\n",
        "    (-83.669641, 41.342487),\n",
        "    (-83.66939599999999, 41.342486),\n",
        "    (-83.669283, 41.342484999999996),\n",
        "    (-83.66713299999999, 41.342451),\n",
        "    (-83.66587799999999, 41.342436),\n",
        "    (-83.66354799999999, 41.342400999999995),\n",
        "    (-83.66303599999999, 41.342391),\n",
        "    (-83.661756, 41.342365),\n",
        "    (-83.66118999999999, 41.342355999999995),\n",
        "    (-83.65997399999999, 41.342335),\n",
        "    (-83.659835, 41.335434),\n",
        "    (-83.659821, 41.33471),\n",
        "    (-83.65959099999999, 41.334714999999996),\n",
        "    (-83.653465, 41.334689999999995),\n",
        "    (-83.650583, 41.334666999999996),\n",
        "    (-83.650409, 41.334669),\n",
        "    (-83.650409, 41.335947),\n",
        "    (-83.650229, 41.335947),\n",
        "    (-83.64766399999999, 41.335967),\n",
        "    (-83.647674, 41.334756),\n",
        "    (-83.64583999999999, 41.334751999999995),\n",
        "    (-83.64585, 41.332761),\n",
        "    (-83.645659, 41.332761),\n",
        "    (-83.64567799999999, 41.337637),\n",
        "    (-83.645698, 41.340424999999996),\n",
        "    (-83.645696, 41.340925),\n",
        "    (-83.644426, 41.340869),\n",
        "    (-83.643873, 41.340247999999995),\n",
        "    (-83.643244, 41.339797),\n",
        "    (-83.64223299999999, 41.339475),\n",
        "    (-83.630608, 41.339087),\n",
        "    (-83.62995699999999, 41.338468999999996),\n",
        "    (-83.62922999999999, 41.337756999999996),\n",
        "    (-83.629099, 41.337987999999996),\n",
        "    (-83.628974, 41.338241),\n",
        "    (-83.62863999999999, 41.338964999999995),\n",
        "    (-83.628421, 41.339383999999995),\n",
        "    (-83.627895, 41.340292999999996),\n",
        "    (-83.62714299999999, 41.341569),\n",
        "    (-83.62705299999999, 41.341752),\n",
        "    (-83.625078, 41.341719)]],\n",
        "  'type': 'Polygon'},\n",
        " 'id': '0',\n",
        " 'properties': OrderedDict([(u'ZCTA5CE10', u'43451'), (u'GEOID10', u'43451'), (u'CLASSFP10', u'B5'), (u'MTFCC10', u'G6350'), (u'FUNCSTAT10', u'S'), (u'ALAND10', 63411475.0), (u'AWATER10', 157689.0), (u'INTPTLAT10', u'+41.3183010'), (u'INTPTLON10', u'-083.6174935')]),\n",
        " 'type': 'Feature'}"
       ]
      }
     ],
     "prompt_number": 39
    },
    {
     "cell_type": "markdown",
     "metadata": {},
     "source": [
      "The coordinates that define this shape are stored as an object in `shape['geometry']`, and the ZIP code of the shape is stored in `shape['properties']['ZCTA5CE10']`. \n",
      "\n",
      "Before we loop over all the shapes to check whether any of our `zip_car_locations` are within them, just how may shapes are in this file?"
     ]
    },
    {
     "cell_type": "code",
     "collapsed": false,
     "input": [
      "import collections\n",
      "cnt = collections.Counter()\n",
      "\n",
      "for shape in zip_code_shapefile:\n",
      "    cnt[shape['geometry']['type']] += 1\n",
      "\n",
      "cnt"
     ],
     "language": "python",
     "metadata": {},
     "outputs": [
      {
       "metadata": {},
       "output_type": "pyout",
       "prompt_number": 40,
       "text": [
        "Counter({'Polygon': 28899, 'MultiPolygon': 4245})"
       ]
      }
     ],
     "prompt_number": 40
    },
    {
     "cell_type": "markdown",
     "metadata": {},
     "source": [
      "Looping over close to 30k polygons will be no fun in the single-threaded iPython environment. We will use a trick to speed up this task. Massachuesetts is contianed within the bounding box 74\u02daW to 69\u02daW and 41\u02daN to 43\u02daN. Fiona can use some geo-indexing features available in the SHP file format to quickly filter a collection with a bounding box of coordinates:"
     ]
    },
    {
     "cell_type": "code",
     "collapsed": false,
     "input": [
      "zip_codes_ma = zip_code_shapefile.filter(( -74, 41, -69, 43 ))"
     ],
     "language": "python",
     "metadata": {},
     "outputs": [],
     "prompt_number": 41
    },
    {
     "cell_type": "markdown",
     "metadata": {},
     "source": [
      "Lets see if this filtering helped us, then reset the Fiona collection:"
     ]
    },
    {
     "cell_type": "code",
     "collapsed": false,
     "input": [
      "cnt = collections.Counter()\n",
      "\n",
      "for shape in zip_codes_ma:\n",
      "    cnt[shape['geometry']['type']] += 1\n",
      "\n",
      "zip_codes_ma = zip_code_shapefile.filter(( -74, 41, -69, 43 ))\n",
      "cnt"
     ],
     "language": "python",
     "metadata": {},
     "outputs": [
      {
       "metadata": {},
       "output_type": "pyout",
       "prompt_number": 42,
       "text": [
        "Counter({'Polygon': 1105, 'MultiPolygon': 175})"
       ]
      }
     ],
     "prompt_number": 42
    },
    {
     "cell_type": "markdown",
     "metadata": {},
     "source": [
      "It certainly did! Lets get those ZIP codes:"
     ]
    },
    {
     "cell_type": "code",
     "collapsed": false,
     "input": [
      "for element in zip_codes_ma:\n",
      "    zip_code_poly = shapely.geometry.shape(element['geometry'])\n",
      "    for zc_location_id, zc_point in zip_car_points.iteritems():\n",
      "        if (zip_car_locations.loc[zc_location_id, 'zip_code'] == np.str) and zip_code_poly.contains(zc_point):\n",
      "            zip_car_locations.loc[zc_location_id, 'zip_code'] = element['properties']['ZCTA5CE10']"
     ],
     "language": "python",
     "metadata": {},
     "outputs": [],
     "prompt_number": 35
    },
    {
     "cell_type": "markdown",
     "metadata": {},
     "source": [
      "Let's make sure that ZIP codes got saved in the `zip_car_locations` dataframe, and make sure that no Zip Car locations were left blank:"
     ]
    },
    {
     "cell_type": "code",
     "collapsed": false,
     "input": [
      "print zip_car_locations.head()\n",
      "print len( zip_car_locations[zip_car_locations.zip_code == np.str].index )"
     ],
     "language": "python",
     "metadata": {},
     "outputs": [
      {
       "output_type": "stream",
       "stream": "stdout",
       "text": [
        "                               description  hasVans   latitude  longitude  \\\n",
        "locationId                                                                  \n",
        "49271126                       Riverside T        0  42.336709 -71.253054   \n",
        "1262234042             Watch Factory Lofts        0  42.368277 -71.241841   \n",
        "49271012                        Woodland T        0  42.332116 -71.241346   \n",
        "391795896       Archstone Cronin's Landing        0  42.371949 -71.237892   \n",
        "1053595252  64 Pine St/Donovan's Alignment        0  42.371203 -71.233723   \n",
        "\n",
        "            vehicleCount zip_code  \n",
        "locationId                         \n",
        "49271126               2    02466  \n",
        "1262234042             2    02453  \n",
        "49271012               2    02466  \n",
        "391795896              2    02453  \n",
        "1053595252             1    02453  \n",
        "2\n"
       ]
      }
     ],
     "prompt_number": 32
    },
    {
     "cell_type": "markdown",
     "metadata": {},
     "source": [
      "Every worked as expected. We now have a ZIP code assigned to every ZipCar location in the state.\n",
      "\n",
      "***TODO:** Figure out why 2 ZIP Codes were not matched.*"
     ]
    },
    {
     "cell_type": "heading",
     "level": 2,
     "metadata": {},
     "source": [
      "Merging ZipCar locations and Performance Data"
     ]
    },
    {
     "cell_type": "markdown",
     "metadata": {},
     "source": [
      "We now have a pretty sticky problem to deal with: We have one data set with performance measures for the ZipCar fleet, down to the ZIP Code level. We also have the a the precise locations for all ZipCars that existed on a random day after the performance data was captured. We saw above that the ZipCar Location dataset has more than twice as many vehicles in it as does the Performance dataset published by ZipCar.\n",
      "\n",
      "One potential explaination is that the Location dataset includes ZipVans; maybe these were filtered out of the Performance dataset before publication. How many vehicles are listed at a location that has some vans?"
     ]
    },
    {
     "cell_type": "code",
     "collapsed": false,
     "input": [
      "print \"Locations with ZipVans: {0}\".format( len(zip_car_locations[zip_car_locations.hasVans == 1].index) )\n",
      "print \"Vehicles at a ZipVans Location: {0}\".format( zip_car_locations[zip_car_locations.hasVans == 1].vehicleCount.sum() )\n",
      "print \n",
      "print \"Total Locations: {0}\".format( len(zip_car_locations.index) )\n",
      "print \"Total Vehicles: {0}\".format( zip_car_locations.vehicleCount.sum() )"
     ],
     "language": "python",
     "metadata": {},
     "outputs": [
      {
       "output_type": "stream",
       "stream": "stdout",
       "text": [
        "Locations with ZipVans: 13\n",
        "Vehicles at a ZipVans Location: 35\n",
        "\n",
        "Total Locations: 380\n",
        "Total Vehicles: 862\n"
       ]
      }
     ],
     "prompt_number": 27
    },
    {
     "cell_type": "markdown",
     "metadata": {},
     "source": [
      "There are very few ZipVans in the location dataset, so we will just ignore them.\n",
      "\n",
      "The simplest strategy to merge these datasets is to assign every vehicle in a given location the average miles driven per quarter for its ZIP Code, derived from the Performance dataset. This will mean that our new data set will represent more than twice as many miles of usage than our Q4 2013 dataset, **but we are looking for relative differences between ZipCar locations**, so this is not really a problem. "
     ]
    },
    {
     "cell_type": "heading",
     "level": 1,
     "metadata": {},
     "source": [
      "...To Be Continued!"
     ]
    },
    {
     "cell_type": "code",
     "collapsed": false,
     "input": [],
     "language": "python",
     "metadata": {},
     "outputs": []
    }
   ],
   "metadata": {}
  }
 ]
}